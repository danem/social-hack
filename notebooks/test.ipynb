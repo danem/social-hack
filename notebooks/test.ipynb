{
 "cells": [
  {
   "cell_type": "code",
   "execution_count": 20,
   "metadata": {},
   "outputs": [
    {
     "name": "stdout",
     "output_type": "stream",
     "text": [
      "The autoreload extension is already loaded. To reload it, use:\n",
      "  %reload_ext autoreload\n"
     ]
    }
   ],
   "source": [
    "%load_ext autoreload\n",
    "%autoreload 2\n",
    "\n",
    "import os\n",
    "import sys\n",
    "sys.path.append(\"/Users/danem/Projects/hack-for-social\")\n",
    "\n",
    "import dotenv\n",
    "dotenv.load_dotenv(\"/Users/danem/Projects/hack-for-social/secrets/env.local\")\n",
    "\n",
    "import backend.main\n",
    "import backend.llm\n",
    "from llama_index.core.node_parser import TokenTextSplitter, SentenceWindowNodeParser, SentenceSplitter\n",
    "from llama_index.core import SimpleDirectoryReader, Document, StorageContext\n",
    "from llama_index.readers.file import PDFReader, DocxReader, FlatReader  # type: ignore\n",
    "import nest_asyncio\n",
    "from llama_index.core.extractors import (\n",
    "    TitleExtractor,\n",
    "    QuestionsAnsweredExtractor,\n",
    "    SummaryExtractor,\n",
    ")\n",
    "from llama_index.core.schema import TextNode\n",
    "import collections"
   ]
  },
  {
   "cell_type": "code",
   "execution_count": 2,
   "metadata": {},
   "outputs": [
    {
     "name": "stderr",
     "output_type": "stream",
     "text": [
      "100%|██████████| 70/70 [00:25<00:00,  2.78it/s]\n",
      "100%|██████████| 70/70 [00:00<00:00, 51284.07it/s]\n",
      "100%|██████████| 70/70 [02:38<00:00,  2.27s/it]\n",
      "100%|██████████| 70/70 [00:00<00:00, 8753.24it/s]\n",
      "100%|██████████| 70/70 [00:15<00:00,  4.44it/s]\n",
      "100%|██████████| 70/70 [00:00<00:00, 42202.28it/s]\n"
     ]
    }
   ],
   "source": [
    "nest_asyncio.apply()\n",
    "nodes = backend.llm.load_directory(\"/Users/danem/Projects/hack-for-social/data/foo\")"
   ]
  },
  {
   "cell_type": "code",
   "execution_count": 3,
   "metadata": {},
   "outputs": [],
   "source": [
    "vindex = backend.llm.get_vector_index(\"test3\")"
   ]
  },
  {
   "cell_type": "code",
   "execution_count": 4,
   "metadata": {},
   "outputs": [],
   "source": [
    "vindex.insert_nodes(nodes.nodes)"
   ]
  },
  {
   "cell_type": "code",
   "execution_count": 11,
   "metadata": {},
   "outputs": [],
   "source": [
    "qe = vindex.as_retriever(similarity_top_k=10)"
   ]
  },
  {
   "cell_type": "code",
   "execution_count": 46,
   "metadata": {},
   "outputs": [],
   "source": [
    "m = qe.retrieve(\"mold\")\n",
    "lut = collections.defaultdict(list)\n",
    "for x in m:\n",
    "    if x.score < 0.4:\n",
    "        continue\n",
    "    lut[x.metadata[\"file_name\"]].append(x)"
   ]
  },
  {
   "cell_type": "code",
   "execution_count": 47,
   "metadata": {},
   "outputs": [
    {
     "data": {
      "text/plain": [
       "defaultdict(list,\n",
       "            {'California_1556 2023.11.21 HODecision_Redacted.pdf': [NodeWithScore(node=TextNode(id_='5a0f930e-bafd-4317-a79b-860e403ec0c7', embedding=None, metadata={'page_label': '4', 'file_name': 'California_1556 2023.11.21 HODecision_Redacted.pdf', 'file_path': '/Users/danem/Projects/hack-for-social/data/foo/California_1556 2023.11.21 HODecision_Redacted.pdf', 'file_type': 'application/pdf', 'file_size': 532122, 'creation_date': '2024-11-09', 'last_modified_date': '2024-08-05', 'section_summary': 'The key topics in this section include mold issues in the living room, kitchen, and balcony, carpet condition and odor, electrical outlet problems, refrigerator and freezer malfunctions, and leaking shower in the Affected Unit. The entities mentioned are Ms. Zavala, former Landlord, Mr. Sanchez, and the neighbor. Key issues highlighted are long-standing maintenance problems, health concerns related to mold and electrical issues, and food wastage due to refrigerator problems.', 'questions_this_excerpt_can_answer': \"1. How long has the mold issue been present in the living room, kitchen, and balcony of the Affected Unit, and how has it been addressed by the former Landlord and Mr. Sanchez?\\n2. What were the electrical outlet problems in the Affected Unit, how long did they persist, and how were they finally resolved?\\n3. What issues did Ms. Zavala face with her refrigerator and freezer, how did they impact her food storage, and how were these issues addressed by the former Landlord and Mr. Sanchez?\\n4. What problems were caused by the leaking shower in the Affected Unit, how long did the hot water leak persist, and what actions were taken to address it?\\n5. How did the condition of the carpet in the Affected Unit deteriorate over time, what actions were taken to address it, and how did Mr. Sanchez respond to Ms. Zavala's concerns about cleaning it?\", 'excerpt_keywords': 'mold, maintenance, electrical issues, refrigerator, leaking shower', 'doc_id': 'ee4f1afe-1fd9-4083-96d9-09dda954885c'}, excluded_embed_metadata_keys=[], excluded_llm_metadata_keys=[], relationships={}, text='mold, maintenance, electrical issues, refrigerator, leaking shower', mimetype='text/plain', start_char_idx=None, end_char_idx=None, text_template='{metadata_str}\\n\\n{content}', metadata_template='{key}: {value}', metadata_seperator='\\n'), score=0.4775998573648521),\n",
       "              NodeWithScore(node=TextNode(id_='858f81a6-fc80-4bd3-9236-179341c5da43', embedding=None, metadata={'page_label': '4', 'file_name': 'California_1556 2023.11.21 HODecision_Redacted.pdf', 'file_path': '/Users/danem/Projects/hack-for-social/data/foo/California_1556 2023.11.21 HODecision_Redacted.pdf', 'file_type': 'application/pdf', 'file_size': 532122, 'creation_date': '2024-11-09', 'last_modified_date': '2024-08-05', 'section_summary': 'The key topics in this section include mold issues in the living room, kitchen, and balcony, carpet condition and odor, electrical outlet problems, refrigerator and freezer malfunctions, and leaking shower in the Affected Unit. The entities mentioned are Ms. Zavala, former Landlord, Mr. Sanchez, and the neighbor. Key issues highlighted are long-standing maintenance problems, health concerns related to mold and electrical issues, and food wastage due to refrigerator problems.', 'questions_this_excerpt_can_answer': \"1. How long has the mold issue been present in the living room, kitchen, and balcony of the Affected Unit, and how has it been addressed by the former Landlord and Mr. Sanchez?\\n2. What were the electrical outlet problems in the Affected Unit, how long did they persist, and how were they finally resolved?\\n3. What issues did Ms. Zavala face with her refrigerator and freezer, how did they impact her food storage, and how were these issues addressed by the former Landlord and Mr. Sanchez?\\n4. What problems were caused by the leaking shower in the Affected Unit, how long did the hot water leak persist, and what actions were taken to address it?\\n5. How did the condition of the carpet in the Affected Unit deteriorate over time, what actions were taken to address it, and how did Mr. Sanchez respond to Ms. Zavala's concerns about cleaning it?\", 'doc_id': 'ee4f1afe-1fd9-4083-96d9-09dda954885c'}, excluded_embed_metadata_keys=[], excluded_llm_metadata_keys=[], relationships={}, text='1. How long has the mold issue been present in the living room, kitchen, and balcony of the Affected Unit, and how has it been addressed by the former Landlord and Mr. Sanchez?', mimetype='text/plain', start_char_idx=None, end_char_idx=None, text_template='{metadata_str}\\n\\n{content}', metadata_template='{key}: {value}', metadata_seperator='\\n'), score=0.4793052538279754),\n",
       "              NodeWithScore(node=TextNode(id_='4ff5fd22-0b56-4847-bb4a-48b84759f5d0', embedding=None, metadata={'page_label': '4', 'file_name': 'California_1556 2023.11.21 HODecision_Redacted.pdf', 'file_path': '/Users/danem/Projects/hack-for-social/data/foo/California_1556 2023.11.21 HODecision_Redacted.pdf', 'file_type': 'application/pdf', 'file_size': 532122, 'creation_date': '2024-11-09', 'last_modified_date': '2024-08-05', 'section_summary': 'The key topics in this section include mold issues in the living room, kitchen, and balcony, carpet condition and odor, electrical outlet problems, refrigerator and freezer malfunctions, and leaking shower in the Affected Unit. The entities mentioned are Ms. Zavala, former Landlord, Mr. Sanchez, and the neighbor. Key issues highlighted are long-standing maintenance problems, health concerns related to mold and electrical issues, and food wastage due to refrigerator problems.', 'doc_id': 'ee4f1afe-1fd9-4083-96d9-09dda954885c'}, excluded_embed_metadata_keys=[], excluded_llm_metadata_keys=[], relationships={}, text='The key topics in this section include mold issues in the living room, kitchen, and balcony, carpet condition and odor, electrical outlet problems, refrigerator and freezer malfunctions, and leaking shower in the Affected Unit. The entities mentioned are Ms. Zavala, former Landlord, Mr. Sanchez, and the neighbor. Key issues highlighted are long-standing maintenance problems, health concerns related to mold and electrical issues, and food wastage due to refrigerator problems.', mimetype='text/plain', start_char_idx=None, end_char_idx=None, text_template='{metadata_str}\\n\\n{content}', metadata_template='{key}: {value}', metadata_seperator='\\n'), score=0.48553520313443055),\n",
       "              NodeWithScore(node=TextNode(id_='54b18a31-020e-4d0f-b051-a24550a03c44', embedding=None, metadata={'page_label': '15', 'file_name': 'California_1556 2023.11.21 HODecision_Redacted.pdf', 'file_path': '/Users/danem/Projects/hack-for-social/data/foo/California_1556 2023.11.21 HODecision_Redacted.pdf', 'file_type': 'application/pdf', 'file_size': 532122, 'creation_date': '2024-11-09', 'last_modified_date': '2024-08-05', 'section_summary': 'The key topics of this section include exhibits showing ceiling and wall mold, torn carpet, nonfunctioning stovetop burners, and other maintenance issues in the premises. The section also lists the issues presented in the case, such as unlawful rent increases and demands, as well as the failure to maintain the premises in a habitable condition. The entities involved in the exhibits and documents include the petitioner, respondent, witnesses, and the hearing officer.', 'questions_this_excerpt_can_answer': \"1. What specific maintenance issues were documented in the exhibits presented in this section, including ceiling and wall mold, torn carpet, and nonfunctioning stovetop burners?\\n2. Who were the entities involved in the exhibits and documents presented in this section, such as the petitioner, respondent, witnesses, and the hearing officer?\\n3. What were the key issues presented in the case discussed in this section, including unlawful rent increases, demands, and failure to maintain the premises in a habitable condition?\\n4. What documents were submitted post-hearing and marked as evidence without objection in this section, including the Hearing Officer's Exhibits and Petitioner's Exhibits?\\n5. What specific conditions related to the habitability of the premises were alleged to have existed, such as mold, worn carpet, nonfunctioning electrical outlets, and dilapidated appliances, in this section of the document?\", 'excerpt_keywords': 'ceiling mold, wall mold, torn carpet, stovetop burners, maintenance issues, habitable condition', 'doc_id': '6daf7149-d32d-40a0-90c3-e12c34e29820'}, excluded_embed_metadata_keys=[], excluded_llm_metadata_keys=[], relationships={}, text='ceiling mold, wall mold, torn carpet, stovetop burners, maintenance issues, habitable condition', mimetype='text/plain', start_char_idx=None, end_char_idx=None, text_template='{metadata_str}\\n\\n{content}', metadata_template='{key}: {value}', metadata_seperator='\\n'), score=0.4861193160802356),\n",
       "              NodeWithScore(node=TextNode(id_='aa74a462-3701-4035-b3df-d1e836a1e3ef', embedding=None, metadata={'page_label': '4', 'file_name': 'California_1556 2023.11.21 HODecision_Redacted.pdf', 'file_path': '/Users/danem/Projects/hack-for-social/data/foo/California_1556 2023.11.21 HODecision_Redacted.pdf', 'file_type': 'application/pdf', 'file_size': 532122, 'creation_date': '2024-11-09', 'last_modified_date': '2024-08-05', 'section_summary': 'The key topics in this section include mold issues in the living room, kitchen, and balcony, carpet condition and odor, electrical outlet problems, refrigerator and freezer malfunctions, and leaking shower in the Affected Unit. The entities mentioned are Ms. Zavala, former Landlord, Mr. Sanchez, and the neighbor. Key issues highlighted are long-standing maintenance problems, health concerns related to mold and electrical issues, and food wastage due to refrigerator problems.', 'questions_this_excerpt_can_answer': \"1. How long has the mold issue been present in the living room, kitchen, and balcony of the Affected Unit, and how has it been addressed by the former Landlord and Mr. Sanchez?\\n2. What were the electrical outlet problems in the Affected Unit, how long did they persist, and how were they finally resolved?\\n3. What issues did Ms. Zavala face with her refrigerator and freezer, how did they impact her food storage, and how were these issues addressed by the former Landlord and Mr. Sanchez?\\n4. What problems were caused by the leaking shower in the Affected Unit, how long did the hot water leak persist, and what actions were taken to address it?\\n5. How did the condition of the carpet in the Affected Unit deteriorate over time, what actions were taken to address it, and how did Mr. Sanchez respond to Ms. Zavala's concerns about cleaning it?\", 'doc_id': 'ee4f1afe-1fd9-4083-96d9-09dda954885c'}, excluded_embed_metadata_keys=[], excluded_llm_metadata_keys=[], relationships={}, text='4. What problems were caused by the leaking shower in the Affected Unit, how long did the hot water leak persist, and what actions were taken to address it?', mimetype='text/plain', start_char_idx=None, end_char_idx=None, text_template='{metadata_str}\\n\\n{content}', metadata_template='{key}: {value}', metadata_seperator='\\n'), score=0.48987411467047426),\n",
       "              NodeWithScore(node=TextNode(id_='9b6431b5-b63e-4195-a350-a103e8351ea5', embedding=None, metadata={'page_label': '4', 'file_name': 'California_1556 2023.11.21 HODecision_Redacted.pdf', 'file_path': '/Users/danem/Projects/hack-for-social/data/foo/California_1556 2023.11.21 HODecision_Redacted.pdf', 'file_type': 'application/pdf', 'file_size': 532122, 'creation_date': '2024-11-09', 'last_modified_date': '2024-08-05', 'section_summary': 'The key topics in this section include mold issues in the living room, kitchen, and balcony, carpet condition and odor, electrical outlet problems, refrigerator and freezer malfunctions, and leaking shower in the Affected Unit. The entities mentioned are Ms. Zavala, former Landlord, Mr. Sanchez, and the neighbor. Key issues highlighted are long-standing maintenance problems, health concerns related to mold and electrical issues, and food wastage due to refrigerator problems.', 'questions_this_excerpt_can_answer': \"1. How long has the mold issue been present in the living room, kitchen, and balcony of the Affected Unit, and how has it been addressed by the former Landlord and Mr. Sanchez?\\n2. What were the electrical outlet problems in the Affected Unit, how long did they persist, and how were they finally resolved?\\n3. What issues did Ms. Zavala face with her refrigerator and freezer, how did they impact her food storage, and how were these issues addressed by the former Landlord and Mr. Sanchez?\\n4. What problems were caused by the leaking shower in the Affected Unit, how long did the hot water leak persist, and what actions were taken to address it?\\n5. How did the condition of the carpet in the Affected Unit deteriorate over time, what actions were taken to address it, and how did Mr. Sanchez respond to Ms. Zavala's concerns about cleaning it?\", 'doc_id': 'ee4f1afe-1fd9-4083-96d9-09dda954885c'}, excluded_embed_metadata_keys=[], excluded_llm_metadata_keys=[], relationships={}, text='2. What were the electrical outlet problems in the Affected Unit, how long did they persist, and how were they finally resolved?', mimetype='text/plain', start_char_idx=None, end_char_idx=None, text_template='{metadata_str}\\n\\n{content}', metadata_template='{key}: {value}', metadata_seperator='\\n'), score=0.49344925854233745),\n",
       "              NodeWithScore(node=TextNode(id_='ab9c0416-c91d-4593-9981-f75ce71d283b', embedding=None, metadata={'page_label': '4', 'file_name': 'California_1556 2023.11.21 HODecision_Redacted.pdf', 'file_path': '/Users/danem/Projects/hack-for-social/data/foo/California_1556 2023.11.21 HODecision_Redacted.pdf', 'file_type': 'application/pdf', 'file_size': 532122, 'creation_date': '2024-11-09', 'last_modified_date': '2024-08-05', 'section_summary': 'The key topics in this section include mold issues in the living room, kitchen, and balcony, carpet condition and odor, electrical outlet problems, refrigerator and freezer malfunctions, and leaking shower in the Affected Unit. The entities mentioned are Ms. Zavala, former Landlord, Mr. Sanchez, and the neighbor. Key issues highlighted are long-standing maintenance problems, health concerns related to mold and electrical issues, and food wastage due to refrigerator problems.', 'questions_this_excerpt_can_answer': \"1. How long has the mold issue been present in the living room, kitchen, and balcony of the Affected Unit, and how has it been addressed by the former Landlord and Mr. Sanchez?\\n2. What were the electrical outlet problems in the Affected Unit, how long did they persist, and how were they finally resolved?\\n3. What issues did Ms. Zavala face with her refrigerator and freezer, how did they impact her food storage, and how were these issues addressed by the former Landlord and Mr. Sanchez?\\n4. What problems were caused by the leaking shower in the Affected Unit, how long did the hot water leak persist, and what actions were taken to address it?\\n5. How did the condition of the carpet in the Affected Unit deteriorate over time, what actions were taken to address it, and how did Mr. Sanchez respond to Ms. Zavala's concerns about cleaning it?\", 'doc_id': 'ee4f1afe-1fd9-4083-96d9-09dda954885c'}, excluded_embed_metadata_keys=[], excluded_llm_metadata_keys=[], relationships={}, text=\"5. How did the condition of the carpet in the Affected Unit deteriorate over time, what actions were taken to address it, and how did Mr. Sanchez respond to Ms. Zavala's concerns about cleaning it?\", mimetype='text/plain', start_char_idx=None, end_char_idx=None, text_template='{metadata_str}\\n\\n{content}', metadata_template='{key}: {value}', metadata_seperator='\\n'), score=0.4942884447330107),\n",
       "              NodeWithScore(node=TextNode(id_='4844370e-a175-4596-bb9c-40e18fe523bc', embedding=None, metadata={'page_label': '15', 'file_name': 'California_1556 2023.11.21 HODecision_Redacted.pdf', 'file_path': '/Users/danem/Projects/hack-for-social/data/foo/California_1556 2023.11.21 HODecision_Redacted.pdf', 'file_type': 'application/pdf', 'file_size': 532122, 'creation_date': '2024-11-09', 'last_modified_date': '2024-08-05', 'section_summary': 'The key topics of this section include exhibits showing ceiling and wall mold, torn carpet, nonfunctioning stovetop burners, and other maintenance issues in the premises. The section also lists the issues presented in the case, such as unlawful rent increases and demands, as well as the failure to maintain the premises in a habitable condition. The entities involved in the exhibits and documents include the petitioner, respondent, witnesses, and the hearing officer.', 'questions_this_excerpt_can_answer': \"1. What specific maintenance issues were documented in the exhibits presented in this section, including ceiling and wall mold, torn carpet, and nonfunctioning stovetop burners?\\n2. Who were the entities involved in the exhibits and documents presented in this section, such as the petitioner, respondent, witnesses, and the hearing officer?\\n3. What were the key issues presented in the case discussed in this section, including unlawful rent increases, demands, and failure to maintain the premises in a habitable condition?\\n4. What documents were submitted post-hearing and marked as evidence without objection in this section, including the Hearing Officer's Exhibits and Petitioner's Exhibits?\\n5. What specific conditions related to the habitability of the premises were alleged to have existed, such as mold, worn carpet, nonfunctioning electrical outlets, and dilapidated appliances, in this section of the document?\", 'doc_id': '6daf7149-d32d-40a0-90c3-e12c34e29820'}, excluded_embed_metadata_keys=[], excluded_llm_metadata_keys=[], relationships={}, text='5. What specific conditions related to the habitability of the premises were alleged to have existed, such as mold, worn carpet, nonfunctioning electrical outlets, and dilapidated appliances, in this section of the document?', mimetype='text/plain', start_char_idx=None, end_char_idx=None, text_template='{metadata_str}\\n\\n{content}', metadata_template='{key}: {value}', metadata_seperator='\\n'), score=0.4973043731590042)],\n",
       "             'California_2200 2024.04.24 HODecision_Redacted.pdf': [NodeWithScore(node=TextNode(id_='00e569c9-f95e-43b2-96a0-ac4d43abaeed', embedding=None, metadata={'page_label': '8', 'file_name': 'California_2200 2024.04.24 HODecision_Redacted.pdf', 'file_path': '/Users/danem/Projects/hack-for-social/data/foo/California_2200 2024.04.24 HODecision_Redacted.pdf', 'file_type': 'application/pdf', 'file_size': 344967, 'creation_date': '2024-11-09', 'last_modified_date': '2024-08-01', 'section_summary': \"The key topics of this section include various maintenance issues within the property, such as peeling paint, mold growth, deteriorating fixtures, and malfunctioning appliances. The section also mentions communication between the petitioner and respondent regarding maintenance requests and inspections. The entities involved are the City of Mountain View, the property owner, the petitioner, the respondent's manager Mariana Garcia, and the maintenance staff.\", 'questions_this_excerpt_can_answer': \"1. What specific maintenance issues were cited by the City of Mountain View regarding the property on June 2, 2023?\\n2. How did the respondent's manager, Mariana Garcia, assist in translating and following up on a maintenance request submitted by the petitioner?\\n3. What actions did the respondent's managers take when they entered the unit on October 13, 2023, while the petitioner was not home?\\n4. What did the respondent's managers find when they entered the unit on January 26, 2024, to check on the mold complaints?\\n5. According to the respondent's testimony, were they aware of any mold or mildew issues with the unit prior to the filing of the petition?\", 'doc_id': '4d3d21ac-84ba-40be-896e-5e00aa50ab62'}, excluded_embed_metadata_keys=[], excluded_llm_metadata_keys=[], relationships={}, text=\"4. What did the respondent's managers find when they entered the unit on January 26, 2024, to check on the mold complaints?\", mimetype='text/plain', start_char_idx=None, end_char_idx=None, text_template='{metadata_str}\\n\\n{content}', metadata_template='{key}: {value}', metadata_seperator='\\n'), score=0.4966710044135556),\n",
       "              NodeWithScore(node=TextNode(id_='f57bb2a6-d8b5-4626-9044-96025acca880', embedding=None, metadata={'page_label': '8', 'file_name': 'California_2200 2024.04.24 HODecision_Redacted.pdf', 'file_path': '/Users/danem/Projects/hack-for-social/data/foo/California_2200 2024.04.24 HODecision_Redacted.pdf', 'file_type': 'application/pdf', 'file_size': 344967, 'creation_date': '2024-11-09', 'last_modified_date': '2024-08-01', 'section_summary': \"The key topics of this section include various maintenance issues within the property, such as peeling paint, mold growth, deteriorating fixtures, and malfunctioning appliances. The section also mentions communication between the petitioner and respondent regarding maintenance requests and inspections. The entities involved are the City of Mountain View, the property owner, the petitioner, the respondent's manager Mariana Garcia, and the maintenance staff.\", 'questions_this_excerpt_can_answer': \"1. What specific maintenance issues were cited by the City of Mountain View regarding the property on June 2, 2023?\\n2. How did the respondent's manager, Mariana Garcia, assist in translating and following up on a maintenance request submitted by the petitioner?\\n3. What actions did the respondent's managers take when they entered the unit on October 13, 2023, while the petitioner was not home?\\n4. What did the respondent's managers find when they entered the unit on January 26, 2024, to check on the mold complaints?\\n5. According to the respondent's testimony, were they aware of any mold or mildew issues with the unit prior to the filing of the petition?\", 'doc_id': '4d3d21ac-84ba-40be-896e-5e00aa50ab62'}, excluded_embed_metadata_keys=[], excluded_llm_metadata_keys=[], relationships={}, text=\"5. According to the respondent's testimony, were they aware of any mold or mildew issues with the unit prior to the filing of the petition?\", mimetype='text/plain', start_char_idx=None, end_char_idx=None, text_template='{metadata_str}\\n\\n{content}', metadata_template='{key}: {value}', metadata_seperator='\\n'), score=0.4967362086010725)]})"
      ]
     },
     "execution_count": 47,
     "metadata": {},
     "output_type": "execute_result"
    }
   ],
   "source": [
    "lut"
   ]
  },
  {
   "cell_type": "code",
   "execution_count": 37,
   "metadata": {},
   "outputs": [
    {
     "name": "stdout",
     "output_type": "stream",
     "text": [
      "Mountain View, CSFRA, Rental Property, Hearing Officer Decision, Rent Adjustment\n",
      "Hearing procedure, Prehearing Meeting, Witness testimony, Post-Hearing Order, Interpretation services\n",
      "Oralia Belem Zavala Vasquez, rent increases, communication with landlords, maintenance issues, mold problems\n",
      "mold, maintenance, electrical, refrigerator, shower\n",
      "hot water leak, stove, exhaust fan, smoke detectors, rat problems\n",
      "kitchen lights, heating system, repair requests, gas smell, living conditions\n",
      "water issues, mold, carpet condition, stove functionality, maintenance work\n",
      "repairs, interactions, stove, electricity, mold\n",
      "rats, pest control, maintenance, rent increases, property sale\n",
      "rent increase, property ownership, repairs, maintenance, affidavits\n",
      "Hearing Officer Exhibits, Petitioner's Exhibits, CSFRA Petition, Rent Adjustment, Inspection Reports\n",
      "money order, receipts, payments, rental, organizations\n",
      "money order receipts, entities involved, specific dates, amounts, detailed list\n",
      "money orders, checks, police reports, restraining order, damages to car, habitability concerns\n",
      "ceiling mold, wall mold, torn carpet, nonfunctioning appliances, unlawful rent increases\n",
      "rent increases, property management, landlord-tenant issues, property maintenance, rental unit conditions\n",
      "electrical issues, stove, refrigerator, smoke detectors, rat infestation\n",
      "repairs, maintenance, landlord-tenant dispute, rat infestation, unlawful rent increases\n",
      "California Rent Stabilization and Fair Rent Act, CSFRA, unlawful rent increases, Annual General Adjustment, Landlord responsibilities\n",
      "California Rent Stabilization and Fair Return Act, unlawful rent increases, successor landlords, Annual General Adjustment, rent increase notices\n",
      "Damages, Unlawful Rent Increase, CSFRA, Petitioner, Rent Payments\n",
      "CSFRA regulations, unlawful rent increases, offsetting overpayments, habitable premises, compliance\n",
      "California, tenants, landlords, maintenance, habitability\n",
      "habitability issues, neglect, California Health and Safety Code, Civil Code, dilapidation\n",
      "California Fire Code, CSFRA, landlord responsibilities, code violations, property inheritance\n",
      "Property ownership, Maintenance involvement, Repairs discussion, Knowledge passing, Property conditions\n",
      "habitability issues, electrical problems, lack of heat, mold, rats\n",
      "rent reduction, habitability issues, landlord liability, rental unit problems, legal precedent\n",
      "successor landlord, habitability issues, rent reduction, maintenance issues, constructive notice\n",
      "rental property, maintenance issues, reduction in rent, constructive notice, actual notice\n",
      "unlawful rent increases, habitability issues, damages, CSFRA sections, rent adjustments\n",
      "rent refunds, repairs, habitability issues, early payment options, enforceability\n",
      "CSFRA, rent increases, compliance hearing, Mountain View Mediation Program, Barbara M. Anscher\n",
      "Rent payments, Petitioner, Premises, Unlawful rent, Hearing officer\n",
      "Habitability, Housing Service Reduction, Rent Reduction, Maintenance Problems, Hearing Officer\n",
      "rent payments, award schedule, credit schedule, refund schedule, overpayments\n",
      "rental housing committee, Community Stabilization and Fair Rent Act, Abdul Campos, Ferdi DeLuna, hearing officer\n",
      "rental agreement, hearing, Mountain View, California St, Abdul Campos\n",
      "Concession Addendum, Rent concessions, Financial distress, Rent increases, Base Rent dispute\n",
      "Petitioner, Respondent, Maintenance, Habitability, Rental Unit\n",
      "California Rent Stabilization and Fair Housing Act, CSFRA, tenant petitions, unlawful rent increase, housing service reductions\n",
      "lease agreement, rent payments, utility charges, late payments, Covid-19 distress\n",
      "Respondent, Rent increases, CSFRA, Base Rent, Concessions\n",
      "maintenance issues, peeling paint, mold growth, deteriorating fixtures, malfunctioning appliances\n",
      "CSFRA, rent increases, Annual General Adjustment, Base Rent, tenant rights\n",
      "CSFRA Regulations, Utility Charges, Housing Services, Unlawful Rent, Lease Agreement\n",
      "rental concessions, late rent payments, rent stabilization laws, Covid-19 impact, rental agreements\n",
      "Base Rent, rent increases, utility charges, AGA, rent concessions\n",
      "overpayment, rent, maintenance, language barriers, communication\n",
      "maintenance, repair, landlord, tenant, communication\n",
      "maintenance issues, bathroom, living room, kitchen, complaints, compensation\n",
      "maintenance issues, language barrier, communication challenges, housing services, lack of evidence\n",
      "unlawful rent, overpayments, rental assistance, maintenance and repair, rent reduction\n",
      "Maintenance issues, Refund, Habitability, Landlord, Tenancy\n",
      "CSFRA, rent increase, compliance hearing, unpaid payments, enforcement\n",
      "property, evidence, hearing, Mountain View, rent stabilization\n",
      "Respondent Exhibits, Rental Agreement, Conservice bills, Declaration of Covid-19 related financial distress, Notice to Enter Dwelling\n",
      "rent payments, premises rent, utilities, additional services, unlawful charges\n",
      "payments, overpayments, renter, landlord, calculations\n",
      "Habitability, Housing Services, Rent Reduction, Maintenance Concerns, Refund Awarded\n",
      "Rental Housing, Hearing Officer Decision, Community Stabilization, Fair Rent Act, Zoom Hearing\n",
      "rent increase, tenant hardship, income level, rent calculation, transaction ledger\n",
      "Rent Increase Notice, CSFRA, Undue Hardship, Household Income, Hearing Officer\n",
      "undue hardship, household income, rent percentage, eligibility criteria, terminally ill\n",
      "undue hardship, income levels, rent burden, rent increase dispute, CSFRA regulations\n",
      "rent payment, Annual General Adjustment, household composition, gross income, relief from hardship\n",
      "banked AGA relief, rent increase, evidence, discrepancies, hearing officer\n",
      "rent overpayments, credit, compliance hearing, Hearing Officer, Central Ave\n",
      "Decision, Documentary Evidence, Tenant Hardship, Rent Increase, Transaction Ledger\n",
      "HOD decision, department, key entities, decision-making process, implications\n"
     ]
    }
   ],
   "source": [
    "for y in nodes.keyword_nodes:\n",
    "    print(y.text)"
   ]
  },
  {
   "cell_type": "code",
   "execution_count": 44,
   "metadata": {},
   "outputs": [
    {
     "data": {
      "text/plain": [
       "560"
      ]
     },
     "execution_count": 44,
     "metadata": {},
     "output_type": "execute_result"
    }
   ],
   "source": [
    "len(nodes.nodes)"
   ]
  }
 ],
 "metadata": {
  "kernelspec": {
   "display_name": ".venv",
   "language": "python",
   "name": "python3"
  },
  "language_info": {
   "codemirror_mode": {
    "name": "ipython",
    "version": 3
   },
   "file_extension": ".py",
   "mimetype": "text/x-python",
   "name": "python",
   "nbconvert_exporter": "python",
   "pygments_lexer": "ipython3",
   "version": "3.12.4"
  }
 },
 "nbformat": 4,
 "nbformat_minor": 2
}
